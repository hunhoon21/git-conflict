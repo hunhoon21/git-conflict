{
 "cells": [
  {
   "cell_type": "code",
   "execution_count": 1,
   "id": "67e64f8e-ac82-40eb-9ab4-1f6abcda525e",
   "metadata": {
    "canvas": {
     "comments": [
      {
       "message": "please check the value of \"x\"",
       "writer": "mark"
      }
     ],
     "componentType": "CodeCell",
     "copiedOriginId": null,
     "headerColor": "#7b3434",
     "id": "ed4f78ba-c4c0-4e89-b866-3a4c2f5519c2",
     "isComponent": true,
     "name": "jhn",
     "parents": [
      {
       "id": "ce571543-d578-43b8-8ba8-2d5e48cc997b",
       "name": "b"
      }
     ]
    },
    "tags": []
   },
   "outputs": [],
   "source": [
    "d = 123\n",
    "x = 326\n",
    "y = 321\n",
    "z = 123\n",
    "a = 111\n",
    "b = 111\n",
    "c = 111"
   ]
  },
  {
   "cell_type": "code",
   "execution_count": null,
   "id": "81f00519-bc80-4cc5-985d-b42fabac2ebc",
   "metadata": {
    "canvas": {
     "comments": [],
     "componentType": "CodeCell",
     "copiedOriginId": null,
     "headerColor": "inherit",
     "id": "ce571543-d578-43b8-8ba8-2d5e48cc997b",
     "isComponent": true,
     "name": "b",
     "parents": []
    },
    "tags": []
   },
   "outputs": [],
   "source": []
  }
 ],
 "metadata": {
  "canvas": {
   "colorPalette": [
    "#7b3434",
    "inherit",
    "inherit",
    "inherit",
    "inherit",
    "inherit",
    "inherit",
    "inherit",
    "inherit",
    "inherit"
   ],
   "parameters": [],
   "version": "1.0"
  },
  "kernelspec": {
   "display_name": "Python 3 (ipykernel)",
   "language": "python",
   "name": "python3"
  },
  "language_info": {
   "codemirror_mode": {
    "name": "ipython",
    "version": 3
   },
   "file_extension": ".py",
   "mimetype": "text/x-python",
   "name": "python",
   "nbconvert_exporter": "python",
   "pygments_lexer": "ipython3",
   "version": "3.8.13"
  }
 },
 "nbformat": 4,
 "nbformat_minor": 5
}
